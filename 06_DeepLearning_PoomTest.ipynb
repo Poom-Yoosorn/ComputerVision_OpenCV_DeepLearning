{
 "cells": [
  {
   "cell_type": "code",
   "execution_count": 58,
   "metadata": {},
   "outputs": [],
   "source": [
    "import numpy as np\n",
    "from numpy import genfromtxt"
   ]
  },
  {
   "cell_type": "code",
   "execution_count": 123,
   "metadata": {},
   "outputs": [],
   "source": [
    "X_raw = np.arange(1, 10001).reshape(-1, 1)\n",
    "X = np.hstack([\n",
    "    X_raw % 3,\n",
    "    X_raw % 4,        # remainder when divided by 2 (this is the key!)\n",
    "    X_raw % 5,       # last digit\n",
    "    X_raw % 6, \n",
    "    X_raw % 7, # maybe helpful\n",
    "])"
   ]
  },
  {
   "cell_type": "code",
   "execution_count": 124,
   "metadata": {},
   "outputs": [
    {
     "data": {
      "text/plain": [
       "array([[1, 1, 1, 1, 1],\n",
       "       [2, 2, 2, 2, 2],\n",
       "       [0, 3, 3, 3, 3],\n",
       "       ...,\n",
       "       [2, 2, 3, 2, 2],\n",
       "       [0, 3, 4, 3, 3],\n",
       "       [1, 0, 0, 4, 4]], dtype=int32)"
      ]
     },
     "execution_count": 124,
     "metadata": {},
     "output_type": "execute_result"
    }
   ],
   "source": [
    "X"
   ]
  },
  {
   "cell_type": "code",
   "execution_count": 125,
   "metadata": {},
   "outputs": [],
   "source": [
    "y= (X_raw % 2).astype(int).flatten()"
   ]
  },
  {
   "cell_type": "code",
   "execution_count": 126,
   "metadata": {},
   "outputs": [
    {
     "data": {
      "text/plain": [
       "(10000,)"
      ]
     },
     "execution_count": 126,
     "metadata": {},
     "output_type": "execute_result"
    }
   ],
   "source": [
    "y.shape"
   ]
  },
  {
   "cell_type": "code",
   "execution_count": 127,
   "metadata": {},
   "outputs": [
    {
     "data": {
      "text/plain": [
       "array([1, 0, 1, ..., 0, 1, 0])"
      ]
     },
     "execution_count": 127,
     "metadata": {},
     "output_type": "execute_result"
    }
   ],
   "source": [
    "y"
   ]
  },
  {
   "cell_type": "code",
   "execution_count": 19,
   "metadata": {},
   "outputs": [],
   "source": [
    "#from sklearn.preprocessing import MinMaxScaler"
   ]
  },
  {
   "cell_type": "code",
   "execution_count": 20,
   "metadata": {},
   "outputs": [],
   "source": [
    "#scaler_object = MinMaxScaler()"
   ]
  },
  {
   "cell_type": "code",
   "execution_count": 21,
   "metadata": {},
   "outputs": [
    {
     "name": "stderr",
     "output_type": "stream",
     "text": [
      "C:\\Users\\RW_010\\anaconda3\\envs\\python-cvcourse\\lib\\site-packages\\sklearn\\utils\\validation.py:475: DataConversionWarning: Data with input dtype int32 was converted to float64 by MinMaxScaler.\n",
      "  warnings.warn(msg, DataConversionWarning)\n"
     ]
    },
    {
     "data": {
      "text/plain": [
       "MinMaxScaler(copy=True, feature_range=(0, 1))"
      ]
     },
     "execution_count": 21,
     "metadata": {},
     "output_type": "execute_result"
    }
   ],
   "source": [
    "#scaler_object.fit(X)"
   ]
  },
  {
   "cell_type": "code",
   "execution_count": 22,
   "metadata": {},
   "outputs": [],
   "source": [
    "#scaled_X = scaler_object.transform(X)"
   ]
  },
  {
   "cell_type": "code",
   "execution_count": 30,
   "metadata": {},
   "outputs": [],
   "source": [
    "#scaled_X"
   ]
  },
  {
   "cell_type": "code",
   "execution_count": 128,
   "metadata": {},
   "outputs": [],
   "source": [
    "from keras.models import Sequential\n",
    "from keras.layers import Dense"
   ]
  },
  {
   "cell_type": "code",
   "execution_count": 129,
   "metadata": {},
   "outputs": [],
   "source": [
    "model = Sequential()\n",
    "\n",
    "model.add(Dense(4,input_dim=5,activation='relu'))\n",
    "\n",
    "model.add(Dense(20,activation='relu'))\n",
    "model.add(Dense(20,activation='relu'))\n",
    "model.add(Dense(20,activation='relu'))\n",
    "\n",
    "model.add(Dense(1,activation='sigmoid'))"
   ]
  },
  {
   "cell_type": "code",
   "execution_count": 130,
   "metadata": {},
   "outputs": [],
   "source": [
    "model.compile(loss='binary_crossentropy',optimizer='adam',metrics=['accuracy'])"
   ]
  },
  {
   "cell_type": "code",
   "execution_count": 131,
   "metadata": {},
   "outputs": [
    {
     "name": "stdout",
     "output_type": "stream",
     "text": [
      "Epoch 1/100\n",
      " - 4s - loss: 0.6343 - acc: 0.6453\n",
      "Epoch 2/100\n",
      " - 2s - loss: 0.4724 - acc: 0.7219\n",
      "Epoch 3/100\n",
      " - 2s - loss: 0.2773 - acc: 0.8627\n",
      "Epoch 4/100\n",
      " - 2s - loss: 0.1973 - acc: 0.9019\n",
      "Epoch 5/100\n",
      " - 2s - loss: 0.1766 - acc: 0.9063\n",
      "Epoch 6/100\n",
      " - 2s - loss: 0.1695 - acc: 0.9099\n",
      "Epoch 7/100\n",
      " - 2s - loss: 0.1658 - acc: 0.9094\n",
      "Epoch 8/100\n",
      " - 2s - loss: 0.1653 - acc: 0.9133\n",
      "Epoch 9/100\n",
      " - 2s - loss: 0.1644 - acc: 0.9104\n",
      "Epoch 10/100\n",
      " - 2s - loss: 0.1603 - acc: 0.9127\n",
      "Epoch 11/100\n",
      " - 2s - loss: 0.1576 - acc: 0.9135\n",
      "Epoch 12/100\n",
      " - 2s - loss: 0.1546 - acc: 0.9113\n",
      "Epoch 13/100\n",
      " - 2s - loss: 0.1540 - acc: 0.9086\n",
      "Epoch 14/100\n",
      " - 2s - loss: 0.1516 - acc: 0.9078\n",
      "Epoch 15/100\n",
      " - 2s - loss: 0.1446 - acc: 0.9047\n",
      "Epoch 16/100\n",
      " - 2s - loss: 0.1390 - acc: 0.9130\n",
      "Epoch 17/100\n",
      " - 2s - loss: 0.1015 - acc: 0.9600\n",
      "Epoch 18/100\n",
      " - 2s - loss: 0.0346 - acc: 0.9998\n",
      "Epoch 19/100\n",
      " - 2s - loss: 0.0148 - acc: 1.0000\n",
      "Epoch 20/100\n",
      " - 2s - loss: 0.0071 - acc: 1.0000\n",
      "Epoch 21/100\n",
      " - 2s - loss: 0.0039 - acc: 1.0000\n",
      "Epoch 22/100\n",
      " - 2s - loss: 0.0024 - acc: 1.0000\n",
      "Epoch 23/100\n",
      " - 3s - loss: 0.0015 - acc: 1.0000\n",
      "Epoch 24/100\n",
      " - 2s - loss: 0.0011 - acc: 1.0000\n",
      "Epoch 25/100\n",
      " - 2s - loss: 7.5022e-04 - acc: 1.0000\n",
      "Epoch 26/100\n",
      " - 2s - loss: 5.4968e-04 - acc: 1.0000\n",
      "Epoch 27/100\n",
      " - 2s - loss: 4.1175e-04 - acc: 1.0000\n",
      "Epoch 28/100\n",
      " - 2s - loss: 3.1330e-04 - acc: 1.0000\n",
      "Epoch 29/100\n",
      " - 2s - loss: 2.4087e-04 - acc: 1.0000\n",
      "Epoch 30/100\n",
      " - 2s - loss: 1.8788e-04 - acc: 1.0000\n",
      "Epoch 31/100\n",
      " - 2s - loss: 1.4781e-04 - acc: 1.0000\n",
      "Epoch 32/100\n",
      " - 2s - loss: 1.1709e-04 - acc: 1.0000\n",
      "Epoch 33/100\n",
      " - 2s - loss: 9.3401e-05 - acc: 1.0000\n",
      "Epoch 34/100\n",
      " - 2s - loss: 7.4870e-05 - acc: 1.0000\n",
      "Epoch 35/100\n",
      " - 2s - loss: 6.0308e-05 - acc: 1.0000\n",
      "Epoch 36/100\n",
      " - 2s - loss: 4.8776e-05 - acc: 1.0000\n",
      "Epoch 37/100\n",
      " - 2s - loss: 3.9605e-05 - acc: 1.0000\n",
      "Epoch 38/100\n",
      " - 2s - loss: 3.2192e-05 - acc: 1.0000\n",
      "Epoch 39/100\n",
      " - 2s - loss: 2.6336e-05 - acc: 1.0000\n",
      "Epoch 40/100\n",
      " - 2s - loss: 2.1551e-05 - acc: 1.0000\n",
      "Epoch 41/100\n",
      " - 2s - loss: 1.7642e-05 - acc: 1.0000\n",
      "Epoch 42/100\n",
      " - 2s - loss: 1.4495e-05 - acc: 1.0000\n",
      "Epoch 43/100\n",
      " - 2s - loss: 1.1937e-05 - acc: 1.0000\n",
      "Epoch 44/100\n",
      " - 2s - loss: 9.8681e-06 - acc: 1.0000\n",
      "Epoch 45/100\n",
      " - 2s - loss: 8.1630e-06 - acc: 1.0000\n",
      "Epoch 46/100\n",
      " - 2s - loss: 6.7730e-06 - acc: 1.0000\n",
      "Epoch 47/100\n",
      " - 2s - loss: 5.6256e-06 - acc: 1.0000\n",
      "Epoch 48/100\n",
      " - 2s - loss: 4.6713e-06 - acc: 1.0000\n",
      "Epoch 49/100\n",
      " - 2s - loss: 3.8890e-06 - acc: 1.0000\n",
      "Epoch 50/100\n",
      " - 2s - loss: 3.2446e-06 - acc: 1.0000\n",
      "Epoch 51/100\n",
      " - 2s - loss: 2.7095e-06 - acc: 1.0000\n",
      "Epoch 52/100\n",
      " - 2s - loss: 2.2649e-06 - acc: 1.0000\n",
      "Epoch 53/100\n",
      " - 2s - loss: 1.8995e-06 - acc: 1.0000\n",
      "Epoch 54/100\n",
      " - 2s - loss: 1.5895e-06 - acc: 1.0000\n",
      "Epoch 55/100\n",
      " - 2s - loss: 1.3383e-06 - acc: 1.0000\n",
      "Epoch 56/100\n",
      " - 2s - loss: 1.1270e-06 - acc: 1.0000\n",
      "Epoch 57/100\n",
      " - 2s - loss: 9.5481e-07 - acc: 1.0000\n",
      "Epoch 58/100\n",
      " - 2s - loss: 8.0812e-07 - acc: 1.0000\n",
      "Epoch 59/100\n",
      " - 2s - loss: 6.8331e-07 - acc: 1.0000\n",
      "Epoch 60/100\n",
      " - 2s - loss: 5.8187e-07 - acc: 1.0000\n",
      "Epoch 61/100\n",
      " - 2s - loss: 4.9865e-07 - acc: 1.0000\n",
      "Epoch 62/100\n",
      " - 2s - loss: 4.2981e-07 - acc: 1.0000\n",
      "Epoch 63/100\n",
      " - 2s - loss: 3.7208e-07 - acc: 1.0000\n",
      "Epoch 64/100\n",
      " - 2s - loss: 3.2395e-07 - acc: 1.0000\n",
      "Epoch 65/100\n",
      " - 2s - loss: 2.8449e-07 - acc: 1.0000\n",
      "Epoch 66/100\n",
      " - 2s - loss: 2.5097e-07 - acc: 1.0000\n",
      "Epoch 67/100\n",
      " - 2s - loss: 2.2327e-07 - acc: 1.0000\n",
      "Epoch 68/100\n",
      " - 2s - loss: 2.0027e-07 - acc: 1.0000\n",
      "Epoch 69/100\n",
      " - 2s - loss: 1.8127e-07 - acc: 1.0000\n",
      "Epoch 70/100\n",
      " - 2s - loss: 1.6522e-07 - acc: 1.0000\n",
      "Epoch 71/100\n",
      " - 2s - loss: 1.5230e-07 - acc: 1.0000\n",
      "Epoch 72/100\n",
      " - 2s - loss: 1.4154e-07 - acc: 1.0000\n",
      "Epoch 73/100\n",
      " - 2s - loss: 1.3280e-07 - acc: 1.0000\n",
      "Epoch 74/100\n",
      " - 2s - loss: 1.2586e-07 - acc: 1.0000\n",
      "Epoch 75/100\n",
      " - 2s - loss: 1.2039e-07 - acc: 1.0000\n",
      "Epoch 76/100\n",
      " - 2s - loss: 1.1666e-07 - acc: 1.0000\n",
      "Epoch 77/100\n",
      " - 2s - loss: 1.1434e-07 - acc: 1.0000\n",
      "Epoch 78/100\n",
      " - 2s - loss: 1.1259e-07 - acc: 1.0000\n",
      "Epoch 79/100\n",
      " - 2s - loss: 1.1092e-07 - acc: 1.0000\n",
      "Epoch 80/100\n",
      " - 2s - loss: 1.1004e-07 - acc: 1.0000\n",
      "Epoch 81/100\n",
      " - 2s - loss: 1.0979e-07 - acc: 1.0000\n",
      "Epoch 82/100\n",
      " - 2s - loss: 1.0965e-07 - acc: 1.0000\n",
      "Epoch 83/100\n",
      " - 2s - loss: 1.0961e-07 - acc: 1.0000\n",
      "Epoch 84/100\n",
      " - 2s - loss: 1.0960e-07 - acc: 1.0000\n",
      "Epoch 85/100\n",
      " - 2s - loss: 1.0960e-07 - acc: 1.0000\n",
      "Epoch 86/100\n",
      " - 2s - loss: 1.0960e-07 - acc: 1.0000\n",
      "Epoch 87/100\n",
      " - 2s - loss: 1.0960e-07 - acc: 1.0000\n",
      "Epoch 88/100\n",
      " - 2s - loss: 1.0960e-07 - acc: 1.0000\n",
      "Epoch 89/100\n",
      " - 2s - loss: 1.0960e-07 - acc: 1.0000\n",
      "Epoch 90/100\n",
      " - 2s - loss: 1.0960e-07 - acc: 1.0000\n",
      "Epoch 91/100\n",
      " - 2s - loss: 1.0960e-07 - acc: 1.0000\n",
      "Epoch 92/100\n",
      " - 2s - loss: 1.0960e-07 - acc: 1.0000\n",
      "Epoch 93/100\n",
      " - 2s - loss: 1.0960e-07 - acc: 1.0000\n",
      "Epoch 94/100\n",
      " - 2s - loss: 1.0960e-07 - acc: 1.0000\n",
      "Epoch 95/100\n",
      " - 2s - loss: 1.0960e-07 - acc: 1.0000\n",
      "Epoch 96/100\n",
      " - 2s - loss: 1.0960e-07 - acc: 1.0000\n",
      "Epoch 97/100\n",
      " - 2s - loss: 1.0960e-07 - acc: 1.0000\n",
      "Epoch 98/100\n",
      " - 2s - loss: 1.0960e-07 - acc: 1.0000\n",
      "Epoch 99/100\n",
      " - 2s - loss: 1.0960e-07 - acc: 1.0000\n",
      "Epoch 100/100\n",
      " - 2s - loss: 1.0960e-07 - acc: 1.0000\n"
     ]
    },
    {
     "data": {
      "text/plain": [
       "<keras.callbacks.History at 0x236fbfbef98>"
      ]
     },
     "execution_count": 131,
     "metadata": {},
     "output_type": "execute_result"
    }
   ],
   "source": [
    "model.fit(X,y,epochs=100,verbose=2)"
   ]
  },
  {
   "cell_type": "code",
   "execution_count": 132,
   "metadata": {},
   "outputs": [],
   "source": [
    "from sklearn.metrics import confusion_matrix,classification_report"
   ]
  },
  {
   "cell_type": "code",
   "execution_count": 133,
   "metadata": {},
   "outputs": [],
   "source": [
    "# Generate numbers 1–100\n",
    "X_test_raw = np.arange(20000, 23010).reshape(-1, 1)\n",
    "X_test = np.hstack([\n",
    "    X_test_raw % 3,\n",
    "    X_test_raw % 4,        # remainder when divided by 2 (this is the key!)\n",
    "    X_test_raw % 5,       # last digit\n",
    "    X_test_raw % 6, \n",
    "    X_test_raw % 7, # maybe helpful\n",
    "])\n",
    "\n",
    "# Label: 0 for even, 1 for odd\n",
    "y_test = (X_test_raw % 2).astype(int).flatten()"
   ]
  },
  {
   "cell_type": "code",
   "execution_count": 134,
   "metadata": {},
   "outputs": [
    {
     "data": {
      "text/plain": [
       "array([0, 1, 0, ..., 1, 0, 1])"
      ]
     },
     "execution_count": 134,
     "metadata": {},
     "output_type": "execute_result"
    }
   ],
   "source": [
    "y_test"
   ]
  },
  {
   "cell_type": "code",
   "execution_count": 135,
   "metadata": {},
   "outputs": [
    {
     "data": {
      "text/plain": [
       "array([[1505,    0],\n",
       "       [   0, 1505]], dtype=int64)"
      ]
     },
     "execution_count": 135,
     "metadata": {},
     "output_type": "execute_result"
    }
   ],
   "source": [
    "predictions = model.predict_classes(X_test)\n",
    "confusion_matrix(y_test,predictions)"
   ]
  },
  {
   "cell_type": "code",
   "execution_count": null,
   "metadata": {},
   "outputs": [],
   "source": []
  }
 ],
 "metadata": {
  "kernelspec": {
   "display_name": "Python 3",
   "language": "python",
   "name": "python3"
  },
  "language_info": {
   "codemirror_mode": {
    "name": "ipython",
    "version": 3
   },
   "file_extension": ".py",
   "mimetype": "text/x-python",
   "name": "python",
   "nbconvert_exporter": "python",
   "pygments_lexer": "ipython3",
   "version": "3.6.6"
  }
 },
 "nbformat": 4,
 "nbformat_minor": 2
}
